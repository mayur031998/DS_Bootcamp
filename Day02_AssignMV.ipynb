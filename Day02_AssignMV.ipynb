{
 "cells": [
  {
   "cell_type": "code",
   "execution_count": 11,
   "id": "939230ea-7000-47ee-8704-5dc29ad06e9b",
   "metadata": {},
   "outputs": [
    {
     "name": "stdout",
     "output_type": "stream",
     "text": [
      "Array A: [ 1  5  7  9 12]\n",
      "Array B: [ 5  9 11 15  7]\n",
      "Vertical Stack:\n",
      " [[ 1  5  7  9 12]\n",
      " [ 5  9 11 15  7]]\n",
      "Horizontal Stack:\n",
      " [ 1  5  7  9 12  5  9 11 15  7]\n"
     ]
    }
   ],
   "source": [
    "#NUMPY QUestions\n",
    "\n",
    "import numpy as np\n",
    "\n",
    "A = np.array([1, 5, 7, 9, 12])\n",
    "B = np.array([5, 9, 11, 15, 7])\n",
    "\n",
    "print(\"Array A:\", A)\n",
    "print(\"Array B:\", B)\n",
    "\n",
    "# Vertical stack\n",
    "vert_stack = np.vstack((A, B))\n",
    "print(\"Vertical Stack:\\n\", vert_stack)\n",
    "\n",
    "# Horizontal stack\n",
    "horiz_stack = np.hstack((A, B))\n",
    "print(\"Horizontal Stack:\\n\", horiz_stack)\n"
   ]
  },
  {
   "cell_type": "code",
   "execution_count": 12,
   "id": "c9981b2b-b207-4e48-868a-b59ce563820d",
   "metadata": {},
   "outputs": [
    {
     "name": "stdout",
     "output_type": "stream",
     "text": [
      "Common elements: [np.int64(5), np.int64(7), np.int64(9)]\n"
     ]
    }
   ],
   "source": [
    "common = []\n",
    "for a in A:\n",
    "    for b in B:\n",
    "        if a == b:\n",
    "            common.append(a)\n",
    "print(\"Common elements:\", common)\n"
   ]
  },
  {
   "cell_type": "code",
   "execution_count": 13,
   "id": "cfc0a2a6-eaf7-4940-98a1-740e93d37b6d",
   "metadata": {},
   "outputs": [
    {
     "name": "stdout",
     "output_type": "stream",
     "text": [
      "Numbers in range 5 to 10: [np.int64(5), np.int64(7), np.int64(9)]\n"
     ]
    }
   ],
   "source": [
    "in_range = []\n",
    "for a in A:\n",
    "    if a >= 5 and a <= 10:\n",
    "        in_range.append(a)\n",
    "print(\"Numbers in range 5 to 10:\", in_range)\n"
   ]
  },
  {
   "cell_type": "code",
   "execution_count": 16,
   "id": "772a79fd-82cb-479f-a7f0-4748e4a59c57",
   "metadata": {},
   "outputs": [
    {
     "name": "stdout",
     "output_type": "stream",
     "text": [
      "Filtered iris rows:\n",
      "[4.8 3.4 1.6 0.2]\n",
      "[4.8 3.4 1.9 0.2]\n",
      "[4.7 3.2 1.6 0.2]\n",
      "[4.8 3.1 1.6 0.2]\n",
      "[4.9 2.4 3.3 1. ]\n",
      "[4.9 2.5 4.5 1.7]\n"
     ]
    }
   ],
   "source": [
    "url = 'https://archive.ics.uci.edu/ml/machine-learning-databases/iris/iris.data'\n",
    "iris_2d = np.genfromtxt(url, delimiter=',', dtype='float', usecols=[0,1,2,3])\n",
    "\n",
    "filtered_r = []\n",
    "for row in iris_2d:\n",
    "    if row[2] > 1.5 and row[0] < 5.0:\n",
    "        filtered_r.append(row)\n",
    "print(\"Filtered iris rows:\")\n",
    "for r in filtered_r:\n",
    "    print(r)"
   ]
  },
  {
   "cell_type": "code",
   "execution_count": 15,
   "id": "1888df93-dd83-4552-bb0f-50e6a3109bb7",
   "metadata": {},
   "outputs": [
    {
     "name": "stdout",
     "output_type": "stream",
     "text": [
      "Every 20th row - Manufacturer, Model, Type:\n",
      "['Acura' 'Integra' 'Small']\n",
      "['Chrysler' 'LeBaron' 'Compact']\n",
      "['Honda' 'Prelude' 'Sporty']\n",
      "['Mercury' 'Cougar' 'Midsize']\n",
      "['Subaru' 'Loyale' 'Small']\n",
      "\n",
      "After replacing missing values in Min.Price and Max.Price:\n",
      "[np.float64(12.9) np.float64(18.8)]\n",
      "[np.float64(29.2) np.float64(38.7)]\n",
      "[np.float64(25.9) np.float64(32.3)]\n",
      "[np.float64(17.118604651162787) np.float64(44.6)]\n",
      "[np.float64(17.118604651162787) np.float64(21.45909090909091)]\n",
      "[np.float64(14.2) np.float64(17.3)]\n",
      "[np.float64(19.9) np.float64(21.45909090909091)]\n",
      "[np.float64(22.6) np.float64(24.9)]\n",
      "[np.float64(26.3) np.float64(26.3)]\n",
      "[np.float64(33.0) np.float64(36.3)]\n",
      "[np.float64(37.5) np.float64(42.7)]\n",
      "[np.float64(8.5) np.float64(18.3)]\n",
      "[np.float64(11.4) np.float64(11.4)]\n",
      "[np.float64(13.4) np.float64(16.8)]\n",
      "[np.float64(13.4) np.float64(18.4)]\n",
      "[np.float64(14.7) np.float64(18.0)]\n",
      "[np.float64(14.7) np.float64(18.6)]\n",
      "[np.float64(18.0) np.float64(19.6)]\n",
      "[np.float64(34.6) np.float64(41.5)]\n",
      "[np.float64(18.4) np.float64(18.4)]\n",
      "[np.float64(14.5) np.float64(17.1)]\n",
      "[np.float64(29.5) np.float64(29.5)]\n",
      "[np.float64(7.9) np.float64(10.6)]\n",
      "[np.float64(8.4) np.float64(14.2)]\n",
      "[np.float64(11.9) np.float64(14.7)]\n",
      "[np.float64(17.118604651162787) np.float64(24.4)]\n",
      "[np.float64(14.8) np.float64(16.4)]\n",
      "[np.float64(18.5) np.float64(33.1)]\n",
      "[np.float64(7.9) np.float64(16.5)]\n",
      "[np.float64(17.118604651162787) np.float64(21.2)]\n",
      "[np.float64(6.9) np.float64(7.9)]\n",
      "[np.float64(8.4) np.float64(11.9)]\n",
      "[np.float64(10.4) np.float64(12.2)]\n",
      "[np.float64(10.8) np.float64(21.0)]\n",
      "[np.float64(12.8) np.float64(15.2)]\n",
      "[np.float64(14.5) np.float64(25.3)]\n",
      "[np.float64(15.6) np.float64(24.8)]\n",
      "[np.float64(20.1) np.float64(21.7)]\n",
      "[np.float64(6.7) np.float64(10.0)]\n",
      "[np.float64(11.5) np.float64(13.5)]\n",
      "[np.float64(17.0) np.float64(22.7)]\n",
      "[np.float64(8.4) np.float64(15.8)]\n",
      "[np.float64(13.8) np.float64(21.2)]\n",
      "[np.float64(6.8) np.float64(9.2)]\n",
      "[np.float64(9.0) np.float64(11.0)]\n",
      "[np.float64(9.1) np.float64(11.0)]\n",
      "[np.float64(12.4) np.float64(15.3)]\n",
      "[np.float64(45.4) np.float64(21.45909090909091)]\n",
      "[np.float64(27.5) np.float64(28.4)]\n",
      "[np.float64(34.7) np.float64(35.6)]\n",
      "[np.float64(33.3) np.float64(35.3)]\n",
      "[np.float64(34.4) np.float64(37.8)]\n",
      "[np.float64(7.4) np.float64(9.1)]\n",
      "[np.float64(10.9) np.float64(12.3)]\n",
      "[np.float64(14.3) np.float64(18.7)]\n",
      "[np.float64(16.6) np.float64(21.7)]\n",
      "[np.float64(32.5) np.float64(32.5)]\n",
      "[np.float64(29.0) np.float64(34.9)]\n",
      "[np.float64(43.8) np.float64(80.0)]\n",
      "[np.float64(13.3) np.float64(15.0)]\n",
      "[np.float64(14.9) np.float64(14.9)]\n",
      "[np.float64(7.7) np.float64(12.9)]\n",
      "[np.float64(22.4) np.float64(21.45909090909091)]\n",
      "[np.float64(8.7) np.float64(14.9)]\n",
      "[np.float64(13.0) np.float64(18.3)]\n",
      "[np.float64(16.7) np.float64(21.5)]\n",
      "[np.float64(21.0) np.float64(22.0)]\n",
      "[np.float64(13.0) np.float64(14.0)]\n",
      "[np.float64(14.2) np.float64(18.4)]\n",
      "[np.float64(19.5) np.float64(19.5)]\n",
      "[np.float64(19.5) np.float64(21.9)]\n",
      "[np.float64(11.4) np.float64(17.4)]\n",
      "[np.float64(17.118604651162787) np.float64(9.9)]\n",
      "[np.float64(9.4) np.float64(12.8)]\n",
      "[np.float64(14.0) np.float64(21.4)]\n",
      "[np.float64(15.4) np.float64(21.6)]\n",
      "[np.float64(19.4) np.float64(29.4)]\n",
      "[np.float64(20.3) np.float64(37.1)]\n",
      "[np.float64(9.2) np.float64(12.9)]\n",
      "[np.float64(7.3) np.float64(9.5)]\n",
      "[np.float64(10.5) np.float64(11.3)]\n",
      "[np.float64(16.3) np.float64(22.7)]\n",
      "[np.float64(7.3) np.float64(21.45909090909091)]\n",
      "[np.float64(17.118604651162787) np.float64(11.8)]\n",
      "[np.float64(14.2) np.float64(22.6)]\n",
      "[np.float64(15.2) np.float64(21.2)]\n",
      "[np.float64(17.118604651162787) np.float64(26.6)]\n",
      "[np.float64(8.7) np.float64(9.5)]\n",
      "[np.float64(16.6) np.float64(22.7)]\n",
      "[np.float64(17.6) np.float64(22.4)]\n",
      "[np.float64(22.9) np.float64(23.7)]\n",
      "[np.float64(21.8) np.float64(23.5)]\n",
      "[np.float64(24.8) np.float64(28.5)]\n",
      "Rows with sum > 100:\n",
      "[22 37 33 21]\n",
      "[22 34 39 12]\n",
      "[27 33 18 26]\n",
      "[28 33 39 34]\n"
     ]
    }
   ],
   "source": [
    "#PANDAS Question\n",
    "#1. Filter every 20th row for specific columns\n",
    "\n",
    "import pandas as pd\n",
    "df = pd.read_csv('https://raw.githubusercontent.com/selva86/datasets/master/Cars93_miss.csv')\n",
    "print(\"Every 20th row - Manufacturer, Model, Type:\")\n",
    "for i in range(0, len(df), 20):\n",
    "    print(df.loc[i, ['Manufacturer', 'Model', 'Type']].values)\n",
    "\n",
    "print()\n",
    "\n",
    "#2. Replace missing values with mean\n",
    "min_mean = df['Min.Price'].mean()\n",
    "max_mean = df['Max.Price'].mean()\n",
    "for i in range(len(df)):\n",
    "    if pd.isna(df.loc[i, 'Min.Price']):\n",
    "        df.loc[i, 'Min.Price'] = min_mean\n",
    "    if pd.isna(df.loc[i, 'Max.Price']):\n",
    "        df.loc[i, 'Max.Price'] = max_mean\n",
    "print(\"After replacing missing values in Min.Price and Max.Price:\")\n",
    "for i in range(len(df)):\n",
    "    print(df.loc[i, ['Min.Price','Max.Price']].values)\n",
    "\n",
    "#3. Rows with row sum > 100\n",
    "import numpy as np\n",
    "import pandas as pd\n",
    "df2 = pd.DataFrame(np.random.randint(10, 40, 60).reshape(-1, 4))\n",
    "print(\"Rows with sum > 100:\")\n",
    "for i in range(len(df2)):\n",
    "    row_sum = 0\n",
    "    for j in range(4):\n",
    "        row_sum = row_sum + df2.iloc[i,j]\n",
    "    if row_sum > 100:\n",
    "        print(df2.iloc[i].values)\n"
   ]
  },
  {
   "cell_type": "code",
   "execution_count": null,
   "id": "beeed81c-df34-43ba-937d-23090c5cee4b",
   "metadata": {},
   "outputs": [],
   "source": []
  },
  {
   "cell_type": "code",
   "execution_count": null,
   "id": "0ba80355-c1e2-4a99-a28e-eb3e08280c80",
   "metadata": {},
   "outputs": [],
   "source": []
  }
 ],
 "metadata": {
  "kernelspec": {
   "display_name": "Python 3 (ipykernel)",
   "language": "python",
   "name": "python3"
  },
  "language_info": {
   "codemirror_mode": {
    "name": "ipython",
    "version": 3
   },
   "file_extension": ".py",
   "mimetype": "text/x-python",
   "name": "python",
   "nbconvert_exporter": "python",
   "pygments_lexer": "ipython3",
   "version": "3.13.5"
  }
 },
 "nbformat": 4,
 "nbformat_minor": 5
}
